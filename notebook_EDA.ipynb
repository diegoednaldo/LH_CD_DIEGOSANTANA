{
  "nbformat": 4,
  "nbformat_minor": 0,
  "metadata": {
    "colab": {
      "provenance": [],
      "authorship_tag": "ABX9TyMNMwgbHHFx+x8+cYKnfX3q",
      "include_colab_link": true
    },
    "kernelspec": {
      "name": "python3",
      "display_name": "Python 3"
    },
    "language_info": {
      "name": "python"
    }
  },
  "cells": [
    {
      "cell_type": "markdown",
      "metadata": {
        "id": "view-in-github",
        "colab_type": "text"
      },
      "source": [
        "<a href=\"https://colab.research.google.com/github/diegoednaldo/LH_CD_DIEGOSANTANA/blob/main/notebook_EDA.ipynb\" target=\"_parent\"><img src=\"https://colab.research.google.com/assets/colab-badge.svg\" alt=\"Open In Colab\"/></a>"
      ]
    },
    {
      "cell_type": "markdown",
      "source": [
        "# Análise Exploratória dos Dados (EDA)\n",
        "Primeiro, vamos importar as bibliotecas necessárias e carregar os dados."
      ],
      "metadata": {
        "id": "yUCDNjqTjUo3"
      }
    },
    {
      "cell_type": "code",
      "execution_count": 1,
      "metadata": {
        "id": "OewBEQ1kjTru"
      },
      "outputs": [],
      "source": [
        "import pandas as pd\n",
        "import numpy as np\n",
        "import matplotlib.pyplot as plt\n",
        "import seaborn as sns\n",
        "from wordcloud import WordCloud\n",
        "from sklearn.feature_extraction.text import TfidfVectorizer\n",
        "import ipywidgets as widgets\n",
        "from ipywidgets import interact\n",
        "from IPython.display import Image"
      ]
    },
    {
      "cell_type": "code",
      "source": [
        "# Carregar o dataset\n",
        "df = pd.read_csv('desafio_indicium_imdb.csv', index_col=0)\n",
        "\n",
        "# Mostrar as primeiras linhas do dataset\n",
        "df.head()"
      ],
      "metadata": {
        "colab": {
          "base_uri": "https://localhost:8080/",
          "height": 694
        },
        "id": "quHkiM6dkLDF",
        "outputId": "46b87dcf-c2c0-4cb4-ebb4-6743d3bf3f63"
      },
      "execution_count": 2,
      "outputs": [
        {
          "output_type": "execute_result",
          "data": {
            "text/plain": [
              "                                    Series_Title Released_Year Certificate  \\\n",
              "1                                  The Godfather          1972           A   \n",
              "2                                The Dark Knight          2008          UA   \n",
              "3                         The Godfather: Part II          1974           A   \n",
              "4                                   12 Angry Men          1957           U   \n",
              "5  The Lord of the Rings: The Return of the King          2003           U   \n",
              "\n",
              "   Runtime                     Genre  IMDB_Rating  \\\n",
              "1  175 min              Crime, Drama          9.2   \n",
              "2  152 min      Action, Crime, Drama          9.0   \n",
              "3  202 min              Crime, Drama          9.0   \n",
              "4   96 min              Crime, Drama          9.0   \n",
              "5  201 min  Action, Adventure, Drama          8.9   \n",
              "\n",
              "                                            Overview  Meta_score  \\\n",
              "1  An organized crime dynasty's aging patriarch t...       100.0   \n",
              "2  When the menace known as the Joker wreaks havo...        84.0   \n",
              "3  The early life and career of Vito Corleone in ...        90.0   \n",
              "4  A jury holdout attempts to prevent a miscarria...        96.0   \n",
              "5  Gandalf and Aragorn lead the World of Men agai...        94.0   \n",
              "\n",
              "               Director           Star1            Star2          Star3  \\\n",
              "1  Francis Ford Coppola   Marlon Brando        Al Pacino     James Caan   \n",
              "2     Christopher Nolan  Christian Bale     Heath Ledger  Aaron Eckhart   \n",
              "3  Francis Ford Coppola       Al Pacino   Robert De Niro  Robert Duvall   \n",
              "4          Sidney Lumet     Henry Fonda      Lee J. Cobb  Martin Balsam   \n",
              "5         Peter Jackson     Elijah Wood  Viggo Mortensen   Ian McKellen   \n",
              "\n",
              "           Star4  No_of_Votes        Gross  \n",
              "1   Diane Keaton      1620367  134,966,411  \n",
              "2  Michael Caine      2303232  534,858,444  \n",
              "3   Diane Keaton      1129952   57,300,000  \n",
              "4   John Fiedler       689845    4,360,000  \n",
              "5  Orlando Bloom      1642758  377,845,905  "
            ],
            "text/html": [
              "\n",
              "  <div id=\"df-a368e93c-8035-49ad-aad9-efc1b51279db\" class=\"colab-df-container\">\n",
              "    <div>\n",
              "<style scoped>\n",
              "    .dataframe tbody tr th:only-of-type {\n",
              "        vertical-align: middle;\n",
              "    }\n",
              "\n",
              "    .dataframe tbody tr th {\n",
              "        vertical-align: top;\n",
              "    }\n",
              "\n",
              "    .dataframe thead th {\n",
              "        text-align: right;\n",
              "    }\n",
              "</style>\n",
              "<table border=\"1\" class=\"dataframe\">\n",
              "  <thead>\n",
              "    <tr style=\"text-align: right;\">\n",
              "      <th></th>\n",
              "      <th>Series_Title</th>\n",
              "      <th>Released_Year</th>\n",
              "      <th>Certificate</th>\n",
              "      <th>Runtime</th>\n",
              "      <th>Genre</th>\n",
              "      <th>IMDB_Rating</th>\n",
              "      <th>Overview</th>\n",
              "      <th>Meta_score</th>\n",
              "      <th>Director</th>\n",
              "      <th>Star1</th>\n",
              "      <th>Star2</th>\n",
              "      <th>Star3</th>\n",
              "      <th>Star4</th>\n",
              "      <th>No_of_Votes</th>\n",
              "      <th>Gross</th>\n",
              "    </tr>\n",
              "  </thead>\n",
              "  <tbody>\n",
              "    <tr>\n",
              "      <th>1</th>\n",
              "      <td>The Godfather</td>\n",
              "      <td>1972</td>\n",
              "      <td>A</td>\n",
              "      <td>175 min</td>\n",
              "      <td>Crime, Drama</td>\n",
              "      <td>9.2</td>\n",
              "      <td>An organized crime dynasty's aging patriarch t...</td>\n",
              "      <td>100.0</td>\n",
              "      <td>Francis Ford Coppola</td>\n",
              "      <td>Marlon Brando</td>\n",
              "      <td>Al Pacino</td>\n",
              "      <td>James Caan</td>\n",
              "      <td>Diane Keaton</td>\n",
              "      <td>1620367</td>\n",
              "      <td>134,966,411</td>\n",
              "    </tr>\n",
              "    <tr>\n",
              "      <th>2</th>\n",
              "      <td>The Dark Knight</td>\n",
              "      <td>2008</td>\n",
              "      <td>UA</td>\n",
              "      <td>152 min</td>\n",
              "      <td>Action, Crime, Drama</td>\n",
              "      <td>9.0</td>\n",
              "      <td>When the menace known as the Joker wreaks havo...</td>\n",
              "      <td>84.0</td>\n",
              "      <td>Christopher Nolan</td>\n",
              "      <td>Christian Bale</td>\n",
              "      <td>Heath Ledger</td>\n",
              "      <td>Aaron Eckhart</td>\n",
              "      <td>Michael Caine</td>\n",
              "      <td>2303232</td>\n",
              "      <td>534,858,444</td>\n",
              "    </tr>\n",
              "    <tr>\n",
              "      <th>3</th>\n",
              "      <td>The Godfather: Part II</td>\n",
              "      <td>1974</td>\n",
              "      <td>A</td>\n",
              "      <td>202 min</td>\n",
              "      <td>Crime, Drama</td>\n",
              "      <td>9.0</td>\n",
              "      <td>The early life and career of Vito Corleone in ...</td>\n",
              "      <td>90.0</td>\n",
              "      <td>Francis Ford Coppola</td>\n",
              "      <td>Al Pacino</td>\n",
              "      <td>Robert De Niro</td>\n",
              "      <td>Robert Duvall</td>\n",
              "      <td>Diane Keaton</td>\n",
              "      <td>1129952</td>\n",
              "      <td>57,300,000</td>\n",
              "    </tr>\n",
              "    <tr>\n",
              "      <th>4</th>\n",
              "      <td>12 Angry Men</td>\n",
              "      <td>1957</td>\n",
              "      <td>U</td>\n",
              "      <td>96 min</td>\n",
              "      <td>Crime, Drama</td>\n",
              "      <td>9.0</td>\n",
              "      <td>A jury holdout attempts to prevent a miscarria...</td>\n",
              "      <td>96.0</td>\n",
              "      <td>Sidney Lumet</td>\n",
              "      <td>Henry Fonda</td>\n",
              "      <td>Lee J. Cobb</td>\n",
              "      <td>Martin Balsam</td>\n",
              "      <td>John Fiedler</td>\n",
              "      <td>689845</td>\n",
              "      <td>4,360,000</td>\n",
              "    </tr>\n",
              "    <tr>\n",
              "      <th>5</th>\n",
              "      <td>The Lord of the Rings: The Return of the King</td>\n",
              "      <td>2003</td>\n",
              "      <td>U</td>\n",
              "      <td>201 min</td>\n",
              "      <td>Action, Adventure, Drama</td>\n",
              "      <td>8.9</td>\n",
              "      <td>Gandalf and Aragorn lead the World of Men agai...</td>\n",
              "      <td>94.0</td>\n",
              "      <td>Peter Jackson</td>\n",
              "      <td>Elijah Wood</td>\n",
              "      <td>Viggo Mortensen</td>\n",
              "      <td>Ian McKellen</td>\n",
              "      <td>Orlando Bloom</td>\n",
              "      <td>1642758</td>\n",
              "      <td>377,845,905</td>\n",
              "    </tr>\n",
              "  </tbody>\n",
              "</table>\n",
              "</div>\n",
              "    <div class=\"colab-df-buttons\">\n",
              "\n",
              "  <div class=\"colab-df-container\">\n",
              "    <button class=\"colab-df-convert\" onclick=\"convertToInteractive('df-a368e93c-8035-49ad-aad9-efc1b51279db')\"\n",
              "            title=\"Convert this dataframe to an interactive table.\"\n",
              "            style=\"display:none;\">\n",
              "\n",
              "  <svg xmlns=\"http://www.w3.org/2000/svg\" height=\"24px\" viewBox=\"0 -960 960 960\">\n",
              "    <path d=\"M120-120v-720h720v720H120Zm60-500h600v-160H180v160Zm220 220h160v-160H400v160Zm0 220h160v-160H400v160ZM180-400h160v-160H180v160Zm440 0h160v-160H620v160ZM180-180h160v-160H180v160Zm440 0h160v-160H620v160Z\"/>\n",
              "  </svg>\n",
              "    </button>\n",
              "\n",
              "  <style>\n",
              "    .colab-df-container {\n",
              "      display:flex;\n",
              "      gap: 12px;\n",
              "    }\n",
              "\n",
              "    .colab-df-convert {\n",
              "      background-color: #E8F0FE;\n",
              "      border: none;\n",
              "      border-radius: 50%;\n",
              "      cursor: pointer;\n",
              "      display: none;\n",
              "      fill: #1967D2;\n",
              "      height: 32px;\n",
              "      padding: 0 0 0 0;\n",
              "      width: 32px;\n",
              "    }\n",
              "\n",
              "    .colab-df-convert:hover {\n",
              "      background-color: #E2EBFA;\n",
              "      box-shadow: 0px 1px 2px rgba(60, 64, 67, 0.3), 0px 1px 3px 1px rgba(60, 64, 67, 0.15);\n",
              "      fill: #174EA6;\n",
              "    }\n",
              "\n",
              "    .colab-df-buttons div {\n",
              "      margin-bottom: 4px;\n",
              "    }\n",
              "\n",
              "    [theme=dark] .colab-df-convert {\n",
              "      background-color: #3B4455;\n",
              "      fill: #D2E3FC;\n",
              "    }\n",
              "\n",
              "    [theme=dark] .colab-df-convert:hover {\n",
              "      background-color: #434B5C;\n",
              "      box-shadow: 0px 1px 3px 1px rgba(0, 0, 0, 0.15);\n",
              "      filter: drop-shadow(0px 1px 2px rgba(0, 0, 0, 0.3));\n",
              "      fill: #FFFFFF;\n",
              "    }\n",
              "  </style>\n",
              "\n",
              "    <script>\n",
              "      const buttonEl =\n",
              "        document.querySelector('#df-a368e93c-8035-49ad-aad9-efc1b51279db button.colab-df-convert');\n",
              "      buttonEl.style.display =\n",
              "        google.colab.kernel.accessAllowed ? 'block' : 'none';\n",
              "\n",
              "      async function convertToInteractive(key) {\n",
              "        const element = document.querySelector('#df-a368e93c-8035-49ad-aad9-efc1b51279db');\n",
              "        const dataTable =\n",
              "          await google.colab.kernel.invokeFunction('convertToInteractive',\n",
              "                                                    [key], {});\n",
              "        if (!dataTable) return;\n",
              "\n",
              "        const docLinkHtml = 'Like what you see? Visit the ' +\n",
              "          '<a target=\"_blank\" href=https://colab.research.google.com/notebooks/data_table.ipynb>data table notebook</a>'\n",
              "          + ' to learn more about interactive tables.';\n",
              "        element.innerHTML = '';\n",
              "        dataTable['output_type'] = 'display_data';\n",
              "        await google.colab.output.renderOutput(dataTable, element);\n",
              "        const docLink = document.createElement('div');\n",
              "        docLink.innerHTML = docLinkHtml;\n",
              "        element.appendChild(docLink);\n",
              "      }\n",
              "    </script>\n",
              "  </div>\n",
              "\n",
              "\n",
              "    <div id=\"df-b16ff7bd-ca42-40e1-b537-ae6e2c595f21\">\n",
              "      <button class=\"colab-df-quickchart\" onclick=\"quickchart('df-b16ff7bd-ca42-40e1-b537-ae6e2c595f21')\"\n",
              "                title=\"Suggest charts\"\n",
              "                style=\"display:none;\">\n",
              "\n",
              "<svg xmlns=\"http://www.w3.org/2000/svg\" height=\"24px\"viewBox=\"0 0 24 24\"\n",
              "     width=\"24px\">\n",
              "    <g>\n",
              "        <path d=\"M19 3H5c-1.1 0-2 .9-2 2v14c0 1.1.9 2 2 2h14c1.1 0 2-.9 2-2V5c0-1.1-.9-2-2-2zM9 17H7v-7h2v7zm4 0h-2V7h2v10zm4 0h-2v-4h2v4z\"/>\n",
              "    </g>\n",
              "</svg>\n",
              "      </button>\n",
              "\n",
              "<style>\n",
              "  .colab-df-quickchart {\n",
              "      --bg-color: #E8F0FE;\n",
              "      --fill-color: #1967D2;\n",
              "      --hover-bg-color: #E2EBFA;\n",
              "      --hover-fill-color: #174EA6;\n",
              "      --disabled-fill-color: #AAA;\n",
              "      --disabled-bg-color: #DDD;\n",
              "  }\n",
              "\n",
              "  [theme=dark] .colab-df-quickchart {\n",
              "      --bg-color: #3B4455;\n",
              "      --fill-color: #D2E3FC;\n",
              "      --hover-bg-color: #434B5C;\n",
              "      --hover-fill-color: #FFFFFF;\n",
              "      --disabled-bg-color: #3B4455;\n",
              "      --disabled-fill-color: #666;\n",
              "  }\n",
              "\n",
              "  .colab-df-quickchart {\n",
              "    background-color: var(--bg-color);\n",
              "    border: none;\n",
              "    border-radius: 50%;\n",
              "    cursor: pointer;\n",
              "    display: none;\n",
              "    fill: var(--fill-color);\n",
              "    height: 32px;\n",
              "    padding: 0;\n",
              "    width: 32px;\n",
              "  }\n",
              "\n",
              "  .colab-df-quickchart:hover {\n",
              "    background-color: var(--hover-bg-color);\n",
              "    box-shadow: 0 1px 2px rgba(60, 64, 67, 0.3), 0 1px 3px 1px rgba(60, 64, 67, 0.15);\n",
              "    fill: var(--button-hover-fill-color);\n",
              "  }\n",
              "\n",
              "  .colab-df-quickchart-complete:disabled,\n",
              "  .colab-df-quickchart-complete:disabled:hover {\n",
              "    background-color: var(--disabled-bg-color);\n",
              "    fill: var(--disabled-fill-color);\n",
              "    box-shadow: none;\n",
              "  }\n",
              "\n",
              "  .colab-df-spinner {\n",
              "    border: 2px solid var(--fill-color);\n",
              "    border-color: transparent;\n",
              "    border-bottom-color: var(--fill-color);\n",
              "    animation:\n",
              "      spin 1s steps(1) infinite;\n",
              "  }\n",
              "\n",
              "  @keyframes spin {\n",
              "    0% {\n",
              "      border-color: transparent;\n",
              "      border-bottom-color: var(--fill-color);\n",
              "      border-left-color: var(--fill-color);\n",
              "    }\n",
              "    20% {\n",
              "      border-color: transparent;\n",
              "      border-left-color: var(--fill-color);\n",
              "      border-top-color: var(--fill-color);\n",
              "    }\n",
              "    30% {\n",
              "      border-color: transparent;\n",
              "      border-left-color: var(--fill-color);\n",
              "      border-top-color: var(--fill-color);\n",
              "      border-right-color: var(--fill-color);\n",
              "    }\n",
              "    40% {\n",
              "      border-color: transparent;\n",
              "      border-right-color: var(--fill-color);\n",
              "      border-top-color: var(--fill-color);\n",
              "    }\n",
              "    60% {\n",
              "      border-color: transparent;\n",
              "      border-right-color: var(--fill-color);\n",
              "    }\n",
              "    80% {\n",
              "      border-color: transparent;\n",
              "      border-right-color: var(--fill-color);\n",
              "      border-bottom-color: var(--fill-color);\n",
              "    }\n",
              "    90% {\n",
              "      border-color: transparent;\n",
              "      border-bottom-color: var(--fill-color);\n",
              "    }\n",
              "  }\n",
              "</style>\n",
              "\n",
              "      <script>\n",
              "        async function quickchart(key) {\n",
              "          const quickchartButtonEl =\n",
              "            document.querySelector('#' + key + ' button');\n",
              "          quickchartButtonEl.disabled = true;  // To prevent multiple clicks.\n",
              "          quickchartButtonEl.classList.add('colab-df-spinner');\n",
              "          try {\n",
              "            const charts = await google.colab.kernel.invokeFunction(\n",
              "                'suggestCharts', [key], {});\n",
              "          } catch (error) {\n",
              "            console.error('Error during call to suggestCharts:', error);\n",
              "          }\n",
              "          quickchartButtonEl.classList.remove('colab-df-spinner');\n",
              "          quickchartButtonEl.classList.add('colab-df-quickchart-complete');\n",
              "        }\n",
              "        (() => {\n",
              "          let quickchartButtonEl =\n",
              "            document.querySelector('#df-b16ff7bd-ca42-40e1-b537-ae6e2c595f21 button');\n",
              "          quickchartButtonEl.style.display =\n",
              "            google.colab.kernel.accessAllowed ? 'block' : 'none';\n",
              "        })();\n",
              "      </script>\n",
              "    </div>\n",
              "\n",
              "    </div>\n",
              "  </div>\n"
            ],
            "application/vnd.google.colaboratory.intrinsic+json": {
              "type": "dataframe",
              "variable_name": "df",
              "summary": "{\n  \"name\": \"df\",\n  \"rows\": 999,\n  \"fields\": [\n    {\n      \"column\": \"Series_Title\",\n      \"properties\": {\n        \"dtype\": \"string\",\n        \"num_unique_values\": 998,\n        \"samples\": [\n          \"Arsenic and Old Lace\",\n          \"Hedwig and the Angry Inch\",\n          \"\\u00d4kami kodomo no Ame to Yuki\"\n        ],\n        \"semantic_type\": \"\",\n        \"description\": \"\"\n      }\n    },\n    {\n      \"column\": \"Released_Year\",\n      \"properties\": {\n        \"dtype\": \"category\",\n        \"num_unique_values\": 100,\n        \"samples\": [\n          \"1934\",\n          \"1992\",\n          \"1989\"\n        ],\n        \"semantic_type\": \"\",\n        \"description\": \"\"\n      }\n    },\n    {\n      \"column\": \"Certificate\",\n      \"properties\": {\n        \"dtype\": \"category\",\n        \"num_unique_values\": 16,\n        \"samples\": [\n          \"A\",\n          \"UA\",\n          \"PG\"\n        ],\n        \"semantic_type\": \"\",\n        \"description\": \"\"\n      }\n    },\n    {\n      \"column\": \"Runtime\",\n      \"properties\": {\n        \"dtype\": \"category\",\n        \"num_unique_values\": 140,\n        \"samples\": [\n          \"205 min\",\n          \"129 min\",\n          \"112 min\"\n        ],\n        \"semantic_type\": \"\",\n        \"description\": \"\"\n      }\n    },\n    {\n      \"column\": \"Genre\",\n      \"properties\": {\n        \"dtype\": \"category\",\n        \"num_unique_values\": 202,\n        \"samples\": [\n          \"Comedy, Drama, Fantasy\",\n          \"Crime, Drama, Fantasy\",\n          \"Drama, Romance, War\"\n        ],\n        \"semantic_type\": \"\",\n        \"description\": \"\"\n      }\n    },\n    {\n      \"column\": \"IMDB_Rating\",\n      \"properties\": {\n        \"dtype\": \"number\",\n        \"std\": 0.2722895085128789,\n        \"min\": 7.6,\n        \"max\": 9.2,\n        \"num_unique_values\": 16,\n        \"samples\": [\n          9.2,\n          9.0,\n          8.6\n        ],\n        \"semantic_type\": \"\",\n        \"description\": \"\"\n      }\n    },\n    {\n      \"column\": \"Overview\",\n      \"properties\": {\n        \"dtype\": \"string\",\n        \"num_unique_values\": 999,\n        \"samples\": [\n          \"Three World War II veterans return home to small-town America to discover that they and their families have been irreparably changed.\",\n          \"A gender-queer punk-rock singer from East Berlin tours the U.S. with her band as she tells her life story and follows the former lover/band-mate who stole her songs.\",\n          \"With his wife's disappearance having become the focus of an intense media circus, a man sees the spotlight turned on him when it's suspected that he may not be innocent.\"\n        ],\n        \"semantic_type\": \"\",\n        \"description\": \"\"\n      }\n    },\n    {\n      \"column\": \"Meta_score\",\n      \"properties\": {\n        \"dtype\": \"number\",\n        \"std\": 12.383257326288954,\n        \"min\": 28.0,\n        \"max\": 100.0,\n        \"num_unique_values\": 63,\n        \"samples\": [\n          30.0,\n          52.0,\n          100.0\n        ],\n        \"semantic_type\": \"\",\n        \"description\": \"\"\n      }\n    },\n    {\n      \"column\": \"Director\",\n      \"properties\": {\n        \"dtype\": \"string\",\n        \"num_unique_values\": 548,\n        \"samples\": [\n          \"Satoshi Kon\",\n          \"David Lean\",\n          \"Yilmaz Erdogan\"\n        ],\n        \"semantic_type\": \"\",\n        \"description\": \"\"\n      }\n    },\n    {\n      \"column\": \"Star1\",\n      \"properties\": {\n        \"dtype\": \"string\",\n        \"num_unique_values\": 659,\n        \"samples\": [\n          \"Peter Dinklage\",\n          \"Jay Baruchel\",\n          \"Steve McQueen\"\n        ],\n        \"semantic_type\": \"\",\n        \"description\": \"\"\n      }\n    },\n    {\n      \"column\": \"Star2\",\n      \"properties\": {\n        \"dtype\": \"string\",\n        \"num_unique_values\": 840,\n        \"samples\": [\n          \"Jacques Villeret\",\n          \"Meg Ryan\",\n          \"J.K. Simmons\"\n        ],\n        \"semantic_type\": \"\",\n        \"description\": \"\"\n      }\n    },\n    {\n      \"column\": \"Star3\",\n      \"properties\": {\n        \"dtype\": \"string\",\n        \"num_unique_values\": 890,\n        \"samples\": [\n          \"Yacef Saadi\",\n          \"John Wray\",\n          \"Chazz Palminteri\"\n        ],\n        \"semantic_type\": \"\",\n        \"description\": \"\"\n      }\n    },\n    {\n      \"column\": \"Star4\",\n      \"properties\": {\n        \"dtype\": \"string\",\n        \"num_unique_values\": 938,\n        \"samples\": [\n          \"Veronica Cartwright\",\n          \"Domhnall Gleeson\",\n          \"Jennifer Ulrich\"\n        ],\n        \"semantic_type\": \"\",\n        \"description\": \"\"\n      }\n    },\n    {\n      \"column\": \"No_of_Votes\",\n      \"properties\": {\n        \"dtype\": \"number\",\n        \"std\": 320912,\n        \"min\": 25088,\n        \"max\": 2303232,\n        \"num_unique_values\": 998,\n        \"samples\": [\n          57259,\n          31957,\n          859695\n        ],\n        \"semantic_type\": \"\",\n        \"description\": \"\"\n      }\n    },\n    {\n      \"column\": \"Gross\",\n      \"properties\": {\n        \"dtype\": \"string\",\n        \"num_unique_values\": 822,\n        \"samples\": [\n          \"136,025,503\",\n          \"356,461,711\",\n          \"275,902\"\n        ],\n        \"semantic_type\": \"\",\n        \"description\": \"\"\n      }\n    }\n  ]\n}"
            }
          },
          "metadata": {},
          "execution_count": 2
        }
      ]
    },
    {
      "cell_type": "markdown",
      "source": [
        "### Análise de Valores Faltantes\n",
        "Verificar se há valores faltantes no dataset."
      ],
      "metadata": {
        "id": "GG7UpJHnkbC_"
      }
    },
    {
      "cell_type": "code",
      "source": [
        "# Mostrar informações básicas do dataset\n",
        "df.info()"
      ],
      "metadata": {
        "colab": {
          "base_uri": "https://localhost:8080/"
        },
        "id": "sbBU-nO_kdGP",
        "outputId": "052f0ced-45d5-4ac8-d544-d7628332eb82"
      },
      "execution_count": 3,
      "outputs": [
        {
          "output_type": "stream",
          "name": "stdout",
          "text": [
            "<class 'pandas.core.frame.DataFrame'>\n",
            "Index: 999 entries, 1 to 999\n",
            "Data columns (total 15 columns):\n",
            " #   Column         Non-Null Count  Dtype  \n",
            "---  ------         --------------  -----  \n",
            " 0   Series_Title   999 non-null    object \n",
            " 1   Released_Year  999 non-null    object \n",
            " 2   Certificate    898 non-null    object \n",
            " 3   Runtime        999 non-null    object \n",
            " 4   Genre          999 non-null    object \n",
            " 5   IMDB_Rating    999 non-null    float64\n",
            " 6   Overview       999 non-null    object \n",
            " 7   Meta_score     842 non-null    float64\n",
            " 8   Director       999 non-null    object \n",
            " 9   Star1          999 non-null    object \n",
            " 10  Star2          999 non-null    object \n",
            " 11  Star3          999 non-null    object \n",
            " 12  Star4          999 non-null    object \n",
            " 13  No_of_Votes    999 non-null    int64  \n",
            " 14  Gross          830 non-null    object \n",
            "dtypes: float64(2), int64(1), object(12)\n",
            "memory usage: 124.9+ KB\n"
          ]
        }
      ]
    },
    {
      "cell_type": "markdown",
      "source": [
        "### Conversão de variáveis e tratamento da base de dados\n",
        "Abaixo são feitos alguns tratamentos, como a remoção de linhas duplicadas e a conversão de colunas com valores numéricos importantes que inicialmente na base de dados estavam classificadas como categóricas."
      ],
      "metadata": {
        "id": "MbuIZOqnkk53"
      }
    },
    {
      "cell_type": "code",
      "source": [
        "# Remover linhas duplicadas\n",
        "df = df.drop_duplicates()"
      ],
      "metadata": {
        "id": "oAVugTAVkmGg"
      },
      "execution_count": 4,
      "outputs": []
    },
    {
      "cell_type": "code",
      "source": [
        "# Converter colunas para o tipo numérico quando apropriado\n",
        "df['Released_Year'] = pd.to_numeric(df['Released_Year'], errors='coerce')\n",
        "df['Meta_score'] = pd.to_numeric(df['Meta_score'], errors='coerce')\n",
        "df['IMDB_Rating'] = pd.to_numeric(df['IMDB_Rating'], errors='coerce')\n",
        "df['No_of_Votes'] = pd.to_numeric(df['No_of_Votes'], errors='coerce')\n",
        "\n",
        "# Função para converter Runtime apenas em minutos\n",
        "def convert_runtime(runtime_str):\n",
        "    # Remove ' min' e converte para int\n",
        "    minutes = int(runtime_str.replace(' min', ''))\n",
        "    return minutes  # Retorna apenas o número de minutos como inteiro\n",
        "\n",
        "# Aplica a função de conversão à coluna Runtime\n",
        "df['Runtime'] = df['Runtime'].apply(convert_runtime)\n",
        "\n",
        "# Remover caracteres não numéricos da coluna 'Gross' e converter para float essa coluna de faturamento\n",
        "df['Gross'] = df['Gross'].replace('[\\$,]', '', regex=True).astype(float)"
      ],
      "metadata": {
        "colab": {
          "base_uri": "https://localhost:8080/"
        },
        "id": "sOOXM562krnC",
        "outputId": "3577714d-c4cd-4856-d379-bacee4c91e19"
      },
      "execution_count": 5,
      "outputs": [
        {
          "output_type": "stream",
          "name": "stderr",
          "text": [
            "<>:17: SyntaxWarning: invalid escape sequence '\\$'\n",
            "<>:17: SyntaxWarning: invalid escape sequence '\\$'\n",
            "/tmp/ipython-input-3466311149.py:17: SyntaxWarning: invalid escape sequence '\\$'\n",
            "  df['Gross'] = df['Gross'].replace('[\\$,]', '', regex=True).astype(float)\n"
          ]
        }
      ]
    },
    {
      "cell_type": "markdown",
      "source": [
        "**Após isso, é iniciado o tratamento dos valores nulos da base de dados.**\n",
        "\n",
        "Inicialmente é feito a proporção de valores nulos em cada coluna."
      ],
      "metadata": {
        "id": "Y0FOk8NWk57P"
      }
    },
    {
      "cell_type": "code",
      "source": [
        "# Calcular a proporção de valores nulos em cada coluna\n",
        "null_proportion = df.isnull().mean() * 100\n",
        "\n",
        "# Exibir a proporção de valores nulos\n",
        "print(null_proportion)"
      ],
      "metadata": {
        "colab": {
          "base_uri": "https://localhost:8080/"
        },
        "id": "9q1pZxKblMaG",
        "outputId": "2d9b069b-4b6f-42d0-ee68-a75b14d74071"
      },
      "execution_count": 6,
      "outputs": [
        {
          "output_type": "stream",
          "name": "stdout",
          "text": [
            "Series_Title      0.000000\n",
            "Released_Year     0.100100\n",
            "Certificate      10.110110\n",
            "Runtime           0.000000\n",
            "Genre             0.000000\n",
            "IMDB_Rating       0.000000\n",
            "Overview          0.000000\n",
            "Meta_score       15.715716\n",
            "Director          0.000000\n",
            "Star1             0.000000\n",
            "Star2             0.000000\n",
            "Star3             0.000000\n",
            "Star4             0.000000\n",
            "No_of_Votes       0.000000\n",
            "Gross            16.916917\n",
            "dtype: float64\n"
          ]
        }
      ]
    },
    {
      "cell_type": "markdown",
      "source": [
        "Inicialmente é feito a exclusão da única linha nula da coluna 'Released_Year', como podemos ver na proporção de valores nulos acima, a exclusão dessa única linha não trará perca de informação da base de dados em todo o processo exploratório e preditivo que farei."
      ],
      "metadata": {
        "id": "S5MscABdlSVQ"
      }
    },
    {
      "cell_type": "code",
      "source": [
        "# Excluir linhas nulas na coluna Released Year, que no caso só possui uma linha nula\n",
        "df = df.dropna(subset=['Released_Year'])"
      ],
      "metadata": {
        "id": "Xo3BA-bulTOW"
      },
      "execution_count": 7,
      "outputs": []
    },
    {
      "cell_type": "markdown",
      "source": [
        "Logo, para colunas, como a de faturamento 'Gross' e a de 'Meta_score', a decisão sobre excluir valores nulos de um DataFrame depende de vários fatores, incluindo a proporção de valores ausentes, o impacto potencial dessa exclusão na análise e a natureza dos dados.\n",
        "\n",
        "Mas tem umas orientações mais gerais que a comunidade no geral segue, sendo elas:\n",
        "\n",
        "Baixa Proporção de Valores Nulos: Se menos de 5% dos dados estão ausentes, geralmente é seguro excluir esses valores sem afetar significativamente a análise.\n",
        "\n",
        "Proporção Moderada de Valores Nulos (5-20%): Nessa faixa, a decisão depende do contexto e da importância das variáveis com valores ausentes. Substituir valores nulos por uma estatística (média, mediana, moda) ou usando técnicas de imputação pode ser mais adequado.\n",
        "\n",
        "Alta Proporção de Valores Nulos (>20%): Se mais de 20% dos dados estão ausentes, excluir esses valores pode resultar na perda de informações importantes. Nesse caso, técnicas de imputação ou modelagem para lidar com valores ausentes são recomendadas."
      ],
      "metadata": {
        "id": "HRCOEoaDlY60"
      }
    },
    {
      "cell_type": "markdown",
      "source": [
        "A coluna **'Meta_score'** por exemplo, possui uma proporção de mais de 15% de valores nulos. Logo, excluir todas as linhas nulas dessa coluna pode causar uma grande perca de informação dos dados. Então, nesse caso, substituir valores nulos por uma estatística (média, mediana, moda) pode ser mais adequado.\n",
        "\n",
        "Então, para tentar compreender qual substituição é mais devida para essa coluna, utilizaremos visualizações analíticas para auxiliar nessa escolha."
      ],
      "metadata": {
        "id": "t54B_UZ0laU3"
      }
    },
    {
      "cell_type": "code",
      "source": [
        "# Plotar o histograma de Meta_score\n",
        "plt.figure(figsize=(8, 6))\n",
        "sns.histplot(df['Meta_score'].dropna(), bins=15, kde=True, color='blue', edgecolor='black')\n",
        "plt.title('Histograma de Meta_score')\n",
        "plt.xlabel('Meta_score')\n",
        "plt.ylabel('Frequência')\n",
        "plt.grid(True)\n",
        "plt.show()"
      ],
      "metadata": {
        "colab": {
          "base_uri": "https://localhost:8080/",
          "height": 564
        },
        "id": "svWAfjjwlfUg",
        "outputId": "df101955-f195-493b-b1a8-98619bf1bed7"
      },
      "execution_count": 8,
      "outputs": [
        {
          "output_type": "display_data",
          "data": {
            "text/plain": [
              "<Figure size 800x600 with 1 Axes>"
            ],
            "image/png": "[encoded data removed]"
          },
          "metadata": {}
        }
      ]
    },
    {
      "cell_type": "code",
      "source": [
        "# Plotar o boxplot de Meta_score\n",
        "plt.figure(figsize=(8, 6))\n",
        "sns.boxplot(x=df['Meta_score'], color='lightblue')\n",
        "plt.title('Boxplot de Meta_score')\n",
        "plt.xlabel('Meta_score')\n",
        "plt.grid(True)\n",
        "plt.show()"
      ],
      "metadata": {
        "colab": {
          "base_uri": "https://localhost:8080/",
          "height": 564
        },
        "id": "IaB7h4hAl2lz",
        "outputId": "5b958ad6-db7e-4044-f0e7-914a82f289f5"
      },
      "execution_count": 9,
      "outputs": [
        {
          "output_type": "display_data",
          "data": {
            "text/plain": [
              "<Figure size 800x600 with 1 Axes>"
            ],
            "image/png": "[encoded data removed]"
          },
          "metadata": {}
        }
      ]
    },
    {
      "cell_type": "markdown",
      "source": [
        "A análise do histograma revela que a coluna **'Meta_score'** exibe uma distribuição normalizada de seus valores. Portanto, optaremos por utilizar a **média** para substituição de dados faltantes, como observado. Além disso, conforme indicado pelo boxplot, a média e a mediana são aproximadamente iguais, reforçando que a média é uma estimativa confiável para valores ausentes."
      ],
      "metadata": {
        "id": "TmdPtp9el6Kc"
      }
    },
    {
      "cell_type": "code",
      "source": [
        "# Calcular a média da coluna Meta_score\n",
        "mean_meta = df['Meta_score'].mean()\n",
        "\n",
        "# Imputar valores nulos com a média\n",
        "df['Meta_score'] = df['Meta_score'].fillna(mean_meta)\n",
        "\n",
        "# Verificar se os valores nulos foram preenchidos\n",
        "null_count = df['Meta_score'].isnull().sum()\n",
        "print(f\"Valores nulos restantes em Meta_score: {null_count}\")"
      ],
      "metadata": {
        "colab": {
          "base_uri": "https://localhost:8080/"
        },
        "id": "850eEljjl9Pf",
        "outputId": "636f4e05-1af3-4dd7-d84f-74efcce14ce2"
      },
      "execution_count": 11,
      "outputs": [
        {
          "output_type": "stream",
          "name": "stdout",
          "text": [
            "Valores nulos restantes em Meta_score: 0\n"
          ]
        }
      ]
    },
    {
      "cell_type": "markdown",
      "source": [
        "Já a coluna **'Gross'**, possui uma proporção de mais de 16% de valores nulos. Como falado anteriormente, excluir todas as linhas nulas pode causar uma grande perca de informação dos dados, podendo impossibilitar no processo exploratório e preditivo, entendimentos importantes sobre os dados.\n",
        "\n",
        "Sendo assim, para dá continuidade à análise exploratória, os valores nulos da coluna **Gross** que representa valores financeiros e pode ter uma distribuição assimétrica com muitos outliers (alguns filmes têm faturamentos extremamente altos em comparação com a maioria), serão substituídos pela **mediana**, que é normalmente a **melhor** escolha para esses valores financeiros."
      ],
      "metadata": {
        "id": "zafdEFTxmfIa"
      }
    },
    {
      "cell_type": "code",
      "source": [
        "# Calcular a mediana da coluna 'Gross'\n",
        "median_gross = df['Gross'].median()\n",
        "\n",
        "# Imputar valores nulos com a mediana\n",
        "df['Gross'] = df['Gross'].fillna(median_gross)\n",
        "\n",
        "# Verificar se os valores nulos foram preenchidos\n",
        "null_count = df['Gross'].isnull().sum()\n",
        "print(f\"Valores nulos restantes em Gross: {null_count}\")"
      ],
      "metadata": {
        "colab": {
          "base_uri": "https://localhost:8080/"
        },
        "id": "iVF4RLd2mim3",
        "outputId": "8da74ad5-90db-47b4-8bc8-2d3c79424d3a"
      },
      "execution_count": 13,
      "outputs": [
        {
          "output_type": "stream",
          "name": "stdout",
          "text": [
            "Valores nulos restantes em Gross: 0\n"
          ]
        }
      ]
    }
  ]
}